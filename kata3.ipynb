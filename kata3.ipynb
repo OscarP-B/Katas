{
 "cells": [
  {
   "cell_type": "code",
   "execution_count": null,
   "metadata": {},
   "outputs": [],
   "source": [
    "velocidad_asteroide = 30\n",
    "\n",
    "if velocidad_asteroide > 25:\n",
    "    print('Advertenicia, Un asteroide se acerca')\n",
    "else:\n",
    "    print('Todo normal')"
   ]
  },
  {
   "cell_type": "code",
   "execution_count": null,
   "metadata": {},
   "outputs": [],
   "source": [
    "velocidad_asteroide = 19\n",
    "if velocidad_asteroide > 20:\n",
    "    print('Un rayo de luz que se puede ver desde la Tierra')\n",
    "elif velocidad_asteroide == 20:\n",
    "    print('un rayo de luz que se puede ver desde la Tierra')\n",
    "else:\n",
    "    print('Todo normal')"
   ]
  },
  {
   "cell_type": "code",
   "execution_count": null,
   "metadata": {},
   "outputs": [],
   "source": [
    "velocidad_asteroide = 19\n",
    "tamanio_asteroide = 45\n",
    "if velocidad_asteroide > 25 and tamanio_asteroide > 25:\n",
    "    print('Advertencia, un asteroide viene hacia la Tierra y es peligroso')\n",
    "elif velocidad_asteroide >= 20:\n",
    "    print('un rayo de luz que se puede ver desde la Tierra')\n",
    "elif tamanio_asteroide < 25:\n",
    "    print('Todo normal')\n",
    "else:\n",
    "    print('Todo normal')"
   ]
  }
 ],
 "metadata": {
  "language_info": {
   "name": "python"
  },
  "orig_nbformat": 4
 },
 "nbformat": 4,
 "nbformat_minor": 2
}
