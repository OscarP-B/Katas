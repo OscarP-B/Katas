{
 "cells": [
  {
   "cell_type": "code",
   "execution_count": 1,
   "metadata": {},
   "outputs": [
    {
     "name": "stdout",
     "output_type": "stream",
     "text": [
      "628949330\n",
      "390577533.93\n"
     ]
    }
   ],
   "source": [
    "tierra = 149597870 \n",
    "jupiter = 778547200\n",
    "distancia_km = jupiter - tierra\n",
    "print(distancia_km)\n",
    "distancia_millas = distancia_km * 0.621\n",
    "print(distancia_millas)"
   ]
  },
  {
   "cell_type": "code",
   "execution_count": 3,
   "metadata": {},
   "outputs": [
    {
     "name": "stdout",
     "output_type": "stream",
     "text": [
      "Distancia en kilometros:  10\n",
      "Distancia en millas:  6.21\n"
     ]
    }
   ],
   "source": [
    "planeta1= int(input(\"Ingrese la distancia del planeta 1: \"))\n",
    "planeta2= int(input(\"Ingrese la distancia del planeta 2: \"))\n",
    "\n",
    "distancia_km = abs(planeta2 - planeta1)\n",
    "print(\"Distancia en kilometros: \", distancia_km)\n",
    "distancia_millas = distancia_km * 0.621\n",
    "print(\"Distancia en millas: \", distancia_millas)\n"
   ]
  }
 ],
 "metadata": {
  "interpreter": {
   "hash": "08ebbd35721cb436502ef145d6321979f41333b8da2165cdb98fe5045cb1a608"
  },
  "kernelspec": {
   "display_name": "Python 3.10.2 64-bit",
   "language": "python",
   "name": "python3"
  },
  "language_info": {
   "codemirror_mode": {
    "name": "ipython",
    "version": 3
   },
   "file_extension": ".py",
   "mimetype": "text/x-python",
   "name": "python",
   "nbconvert_exporter": "python",
   "pygments_lexer": "ipython3",
   "version": "3.10.2"
  },
  "orig_nbformat": 4
 },
 "nbformat": 4,
 "nbformat_minor": 2
}
