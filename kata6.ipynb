{
 "cells": [
  {
   "cell_type": "code",
   "execution_count": 1,
   "metadata": {},
   "outputs": [
    {
     "name": "stdout",
     "output_type": "stream",
     "text": [
      "Existen 8 planetas\n",
      "Existen 9 planetas y el ultimo es Pluton\n"
     ]
    }
   ],
   "source": [
    "planetas = ['Mercurio', 'Venus', 'Tierra', 'Marte', 'Jupiter', 'Saturno', 'Urano', 'Neptuno']\n",
    "\n",
    "print('Existen', len(planetas), 'planetas')\n",
    "\n",
    "planetas.append(\"Pluton\")\n",
    "\n",
    "print('Existen', len(planetas), 'planetas y el ultimo es',planetas[-1])"
   ]
  },
  {
   "cell_type": "code",
   "execution_count": 3,
   "metadata": {},
   "outputs": [
    {
     "name": "stdout",
     "output_type": "stream",
     "text": [
      "Planetas mas cercanos a sol de acuerdo al planeta introducido:  ['Mercurio', 'Venus', 'Tierra']\n",
      "Planetas mas cercanos a sol de acuerdo al planeta introducido:  ['Marte', 'Jupiter', 'Saturno', 'Urano', 'Neptuno']\n"
     ]
    }
   ],
   "source": [
    "planetas = ['Mercurio', 'Venus', 'Tierra', 'Marte', 'Jupiter', 'Saturno', 'Urano', 'Neptuno']\n",
    "planeta_ingresado = input(\"ingrese el nombre de un planet (1er letra mayuscula): \")\n",
    "\n",
    "index = planetas.index(planeta_ingresado)\n",
    "\n",
    "print(\"Planetas mas cercanos a sol de acuerdo al planeta introducido: \",planetas[:index])\n",
    "print(\"Planetas mas lejanos a sol de acuerdo al planeta introducido: \",planetas[index+1:])"
   ]
  }
 ],
 "metadata": {
  "interpreter": {
   "hash": "08ebbd35721cb436502ef145d6321979f41333b8da2165cdb98fe5045cb1a608"
  },
  "kernelspec": {
   "display_name": "Python 3.10.2 64-bit",
   "language": "python",
   "name": "python3"
  },
  "language_info": {
   "codemirror_mode": {
    "name": "ipython",
    "version": 3
   },
   "file_extension": ".py",
   "mimetype": "text/x-python",
   "name": "python",
   "nbconvert_exporter": "python",
   "pygments_lexer": "ipython3",
   "version": "3.10.2"
  },
  "orig_nbformat": 4
 },
 "nbformat": 4,
 "nbformat_minor": 2
}
