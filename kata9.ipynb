{
 "cells": [
  {
   "cell_type": "code",
   "execution_count": 11,
   "metadata": {},
   "outputs": [
    {
     "name": "stdout",
     "output_type": "stream",
     "text": [
      "Reporte \n",
      "    El promedio de combustible es: \"20.0\n",
      "    tanque 1: 10\n",
      "    tanque 2: 20\n",
      "    tanque 3: 30\n",
      "Reporte \n",
      "    El promedio de combustible es: \"20.0\n",
      "    tanque 1: 10\n",
      "    tanque 2: 20\n",
      "    tanque 3: 30\n"
     ]
    }
   ],
   "source": [
    "def combustible(c1, c2, c3):\n",
    "    promedio = (c1+c2+c3)/3\n",
    "    return f\"\"\"Reporte \n",
    "    El promedio de combustible es: {promedio}\n",
    "    tanque 1: {c1}\n",
    "    tanque 2: {c2}\n",
    "    tanque 3: {c3}\"\"\"\n",
    "\n",
    "print(combustible(10, 20, 30))\n",
    "\n",
    "def promedio(valor):\n",
    "    total = sum(valor)\n",
    "    num_val = len(valor)\n",
    "    return total / num_val\n",
    "\n",
    "\n",
    "promedio([45, 55, 77]) \n",
    "\n",
    "def combustible_actulizado(c1, c2, c3):\n",
    "    return f\"\"\"Reporte \n",
    "    El promedio de combustible es: {promedio([c1,c2,c3])}\n",
    "    tanque 1: {c1}\n",
    "    tanque 2: {c2}\n",
    "    tanque 3: {c3}\"\"\"\n",
    "\n",
    "print(combustible_actulizado(10, 20, 30))"
   ]
  },
  {
   "cell_type": "code",
   "execution_count": 18,
   "metadata": {},
   "outputs": [
    {
     "name": "stdout",
     "output_type": "stream",
     "text": [
      "\n",
      "    Mision a MArte\n",
      "    Tiempo: 65 minutos\n",
      "    Cumbustible: 285000 galones\n",
      "    \n",
      "\n",
      "    Mision a MArte\n",
      "    Tiempo: 76 minutes\n",
      "    Combustible: 500000 galones\n",
      "    \n",
      "\n",
      "    Mision a MArte\n",
      "    Tiempo: 74 minutes\n",
      "    Combustible: 500000 galones\n",
      "    main tanque --> 300000 galones\n",
      "external tanque --> 200000 galones\n",
      "\n"
     ]
    }
   ],
   "source": [
    "\n",
    "def reporte_mision(hora_prelanzamiento, tiempo_vuelo, destino, tanque_e, tanque_i):\n",
    "    return f\"\"\"\n",
    "    Mision a {destino}\n",
    "    Tiempo: {hora_prelanzamiento + tiempo_vuelo} minutos\n",
    "    Cumbustible: {tanque_e + tanque_i} galones\n",
    "    \"\"\"\n",
    "\n",
    "print(reporte_mision(14, 51, \"MArte\", 270000, 15000))\n",
    "\n",
    "def reporte_mision2(destino, *minutos, **combustible):\n",
    "    return f\"\"\"\n",
    "    Mision a {destino}\n",
    "    Tiempo: {sum(minutos)} minutes\n",
    "    Combustible: {sum(combustible.values())} galones\n",
    "    \"\"\"\n",
    "\n",
    "print(reporte_mision2(\"MArte\", 10, 15, 51, main=300000, external=200000))\n",
    "\n",
    "def reporte_mision3(destino, *minutos, **combustible):\n",
    "    main_report = f\"\"\"\n",
    "    Mision a {destino}\n",
    "    Tiempo: {sum(minutos)} minutes\n",
    "    Combustible: {sum(combustible.values())} galones\n",
    "    \"\"\"\n",
    "    for tank_name, gallons in combustible.items():\n",
    "        main_report += f\"{tank_name} tanque --> {gallons} galones\\n\"\n",
    "    return main_report\n",
    "\n",
    "print(reporte_mision3(\"MArte\", 8, 11, 55, main=300000, external=200000))"
   ]
  }
 ],
 "metadata": {
  "interpreter": {
   "hash": "08ebbd35721cb436502ef145d6321979f41333b8da2165cdb98fe5045cb1a608"
  },
  "kernelspec": {
   "display_name": "Python 3.10.2 64-bit",
   "language": "python",
   "name": "python3"
  },
  "language_info": {
   "codemirror_mode": {
    "name": "ipython",
    "version": 3
   },
   "file_extension": ".py",
   "mimetype": "text/x-python",
   "name": "python",
   "nbconvert_exporter": "python",
   "pygments_lexer": "ipython3",
   "version": "3.10.2"
  },
  "orig_nbformat": 4
 },
 "nbformat": 4,
 "nbformat_minor": 2
}
